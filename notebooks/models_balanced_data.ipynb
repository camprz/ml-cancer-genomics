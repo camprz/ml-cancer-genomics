{
 "cells": [
  {
   "cell_type": "code",
   "execution_count": 1,
   "id": "0872b3c3-5266-4e28-a805-30392a51160e",
   "metadata": {},
   "outputs": [],
   "source": [
    "# Dependency management\n",
    "# --------------------------------------------------------\n",
    "import sys\n",
    "from pathlib import Path\n",
    "project_root = Path(\"..\").resolve()\n",
    "sys.path.append(str(project_root / \"scripts\"))\n",
    "from setup_environment import setup_paths\n",
    "project_root = setup_paths()\n",
    "\n",
    "# Data manipulation\n",
    "# --------------------------------------------------------\n",
    "import pandas as pd\n",
    "import numpy as np\n",
    "import polars as pl\n",
    "import math\n",
    "import time\n",
    "import joblib\n",
    "\n",
    "# Visualizations\n",
    "# --------------------------------------------------------\n",
    "import matplotlib.pyplot as plt\n",
    "import seaborn as sns\n",
    "import missingno as msno\n",
    "import altair as alt\n",
    "from plotnine import ggplot, geom_point, aes, stat_smooth, facet_wrap\n",
    "from bokeh.plotting import figure, show\n",
    "import seaborn.objects as so\n",
    "import plotly.express as px\n",
    "\n",
    "# Custom scripts\n",
    "# ---------------------------------------------------------\n",
    "from data_processing.cleaner import (cleaning, \n",
    "                                     compare_and_drop_duplicates)\n",
    "from feature_selection.selector import (select_vars, \n",
    "                                       choose_variable_to_drop, \n",
    "                                       corr_comparison, \n",
    "                                       mutual_information)\n",
    "\n",
    "# Correlation\n",
    "# ---------------------------------------------------------\n",
    "from dython.nominal import associations\n",
    "\n",
    "# Dimension Reduction\n",
    "# ---------------------------------------------------------\n",
    "import umap\n",
    "\n",
    "# Preprocessing\n",
    "# ---------------------------------------------------------\n",
    "from sklearn.preprocessing import (MinMaxScaler, \n",
    "                                   RobustScaler, \n",
    "                                   QuantileTransformer, \n",
    "                                   OrdinalEncoder,\n",
    "                                  LabelEncoder)\n",
    "from sklearn import preprocessing\n",
    "from category_encoders import BinaryEncoder\n",
    "\n",
    "# Random Forest\n",
    "# ---------------------------------------------------------\n",
    "from sklearn.ensemble import RandomForestClassifier\n",
    "\n",
    "# Support Vector Machine Classifier\n",
    "# ---------------------------------------------------------\n",
    "from sklearn.svm import SVC\n",
    "\n",
    "# XGBoost\n",
    "# ---------------------------------------------------------\n",
    "import xgboost as xgb\n",
    "from xgboost import XGBClassifier\n",
    "\n",
    "# Model selection\n",
    "# ---------------------------------------------------------\n",
    "from sklearn.model_selection import (train_test_split, \n",
    "                                     RepeatedStratifiedKFold, \n",
    "                                     StratifiedKFold, \n",
    "                                     cross_val_score)\n",
    "\n",
    "# Metrics\n",
    "# ---------------------------------------------------------\n",
    "from sklearn.metrics import (accuracy_score, \n",
    "                             f1_score, \n",
    "                             precision_score, \n",
    "                             recall_score, \n",
    "                             confusion_matrix,\n",
    "                             make_scorer,\n",
    "                             classification_report,\n",
    "                             ConfusionMatrixDisplay\n",
    "                             )\n",
    "\n",
    "# Hyperparameter optimization\n",
    "# ----------------------------------------------------------\n",
    "from hyperopt import fmin, tpe, hp, STATUS_OK, Trials\n",
    "\n",
    "# Other\n",
    "# ---------------------------------------------------------\n",
    "from collections import Counter\n",
    "from tqdm import tqdm\n",
    "import random\n",
    "random.seed(2024)\n",
    "import warnings\n",
    "warnings.simplefilter(\"ignore\", FutureWarning)"
   ]
  },
  {
   "cell_type": "code",
   "execution_count": 2,
   "id": "2f719a4d-2632-4ab6-91ea-e544eb5f59f4",
   "metadata": {},
   "outputs": [
    {
     "name": "stdout",
     "output_type": "stream",
     "text": [
      "(328116, 31)\n",
      "\n",
      "Index(['#chrom', 'chromStart', 'chromEnd', 'name', 'score', 'reserved',\n",
      "       'blockSizes', 'clinSign', 'reviewStatus', 'type', 'molConseq',\n",
      "       'testedInGtr', 'phenotypeList', 'origin', 'cytogenetic', 'vcfDesc',\n",
      "       '_clinSignCode', 'simplified_hgvs', 'Gene', 'ClinClass',\n",
      "       'Classification', 'bin_class', 'classification_oncokb', 'gen',\n",
      "       'gen_label', 'string_per_umap_cluster',\n",
      "       'string_per_umap_cluster_description', 'string_total_clustering',\n",
      "       'string_total_clustering_description', 'x_position', 'y_position'],\n",
      "      dtype='object')\n"
     ]
    }
   ],
   "source": [
    "# Load saved merged_df.csv\n",
    "merged_df = pd.read_csv(f\"{project_root}/data/interim/merged_df.csv\")\n",
    "print(merged_df.shape)\n",
    "print()\n",
    "print(merged_df.columns)"
   ]
  },
  {
   "cell_type": "code",
   "execution_count": 3,
   "id": "668c7a1a-4bf2-431e-8b0f-e1f41139e7ec",
   "metadata": {},
   "outputs": [
    {
     "data": {
      "text/plain": [
       "Index(['#chrom', 'name', 'score', 'blockSizes', 'reviewStatus', 'type',\n",
       "       'molConseq', 'phenotypeList', 'origin', 'cytogenetic',\n",
       "       'simplified_hgvs', 'Gene', 'bin_class', 'classification_oncokb',\n",
       "       'gen_label', 'string_per_umap_cluster_description',\n",
       "       'string_total_clustering_description', 'x_position', 'y_position'],\n",
       "      dtype='object')"
      ]
     },
     "execution_count": 3,
     "metadata": {},
     "output_type": "execute_result"
    }
   ],
   "source": [
    "# Final columns to drop\n",
    "final_drop_check = [\"geneId\", \"_originCode\", \"_allTypeCode\", \"ClinInfo\", \n",
    "                     \"reserved\", \"numSubmit\", \"_variantId\", \"real_id\", \n",
    "                     \"origName\", \"rcvAcc\", \"snpId\", \"Start\", \"End\", \"phenotype\", \n",
    "                    \"_mouseOver\", \"Classification\", \"_clinSignCode\", \n",
    "                    'clinSign', \"ClinClass\", \"chromStart\", \"chromEnd\", \"gen\", \n",
    "                    \"vcfDesc\", \"testedInGtr\", \"string_per_umap_cluster\", \"string_total_clustering\"]\n",
    "\n",
    "for i in final_drop_check:\n",
    "    if i in merged_df.columns:\n",
    "        merged_df = merged_df.drop([i], axis=1)\n",
    "\n",
    "merged_df.columns"
   ]
  },
  {
   "cell_type": "code",
   "execution_count": 4,
   "id": "db8cf3ad-1f89-4001-9f4e-05d44f583cf6",
   "metadata": {},
   "outputs": [],
   "source": [
    "warnings.filterwarnings(\"ignore\", category=DeprecationWarning) \n",
    "g = merged_df.groupby('bin_class')\n",
    "merged_df = g.apply(lambda x:x.sample(g.size().min()).reset_index(drop=True))"
   ]
  },
  {
   "cell_type": "code",
   "execution_count": 5,
   "id": "fa7fb468-41a6-4a55-adc0-fda927ff98f1",
   "metadata": {},
   "outputs": [
    {
     "data": {
      "text/plain": [
       "bin_class\n",
       "0    35740\n",
       "1    35740\n",
       "Name: count, dtype: int64"
      ]
     },
     "execution_count": 5,
     "metadata": {},
     "output_type": "execute_result"
    }
   ],
   "source": [
    "merged_df[\"bin_class\"].value_counts()"
   ]
  },
  {
   "cell_type": "markdown",
   "id": "24e229e0-d326-4dfd-8b20-7486ca6e6974",
   "metadata": {},
   "source": [
    "<hr style=\"height:10px; border-width:0\">\n",
    "\n",
    "\n",
    "# XGBoost Balanced dataframe"
   ]
  },
  {
   "cell_type": "code",
   "execution_count": 6,
   "id": "a23aa310-213b-4c11-88f3-8a7aa37c5970",
   "metadata": {},
   "outputs": [],
   "source": [
    "merged_df = merged_df.reset_index(drop=True)\n",
    "y = merged_df[\"bin_class\"].copy()\n",
    "\n",
    "prep_data = pd.DataFrame()\n",
    "num_cols = merged_df.select_dtypes(include=['float']).columns\n",
    "\n",
    "for i in num_cols:\n",
    "    prep_data[i] = preprocessing.scale(merged_df[i])\n",
    "\n",
    "cat_data = pd.DataFrame()\n",
    "cat_data = merged_df.select_dtypes(include=['object', \"int\"]).copy()\n",
    "cat_data = cat_data.drop([\"bin_class\"], axis=1)\n",
    "\n",
    "for column in cat_data.columns:\n",
    "    cat_data[column] = cat_data[column].astype(\"category\")\n",
    "\n",
    "# XGBoost not encoded categorical columns\n",
    "X = pd.concat([cat_data, prep_data], axis=1)"
   ]
  },
  {
   "cell_type": "code",
   "execution_count": 7,
   "id": "10093034-fe54-456f-866e-f782870885cf",
   "metadata": {},
   "outputs": [
    {
     "name": "stdout",
     "output_type": "stream",
     "text": [
      "100%|███████████████████████████████████████████████████████████████████████████████████████████████████████████████████| 50/50 [29:06<00:00, 34.94s/trial, best loss: -0.9613685239050124]\n",
      "\n",
      "================================================================================\n",
      "Best parameters found:  {'colsample_bytree': 0.9314225242926978, 'gamma': 2.058863444142939, 'learning_rate': 0.12241769263029245, 'max_depth': 6, 'n_estimators': 150, 'reg_alpha': 2.94281106350465, 'reg_lambda': 0.05458250850134945, 'subsample': 0.7885632432467617}\n",
      "================================================================================\n",
      "\n",
      "              precision    recall  f1-score   support\n",
      "\n",
      "           0       0.97      0.95      0.96     10722\n",
      "           1       0.95      0.97      0.96     10722\n",
      "\n",
      "    accuracy                           0.96     21444\n",
      "   macro avg       0.96      0.96      0.96     21444\n",
      "weighted avg       0.96      0.96      0.96     21444\n",
      "\n"
     ]
    },
    {
     "data": {
      "image/png": "[encoded data removed]",
      "text/plain": [
       "<Figure size 640x480 with 1 Axes>"
      ]
     },
     "metadata": {},
     "output_type": "display_data"
    },
    {
     "name": "stdout",
     "output_type": "stream",
     "text": [
      "Metricas para XGBoost con Hyperopt:\n",
      "Accuracy :  0.9622\n",
      "Precision:  0.9547\n",
      "Recall   :  0.9704\n",
      "F1 Score :  0.9625\n"
     ]
    }
   ],
   "source": [
    "# Train test split\n",
    "X_train, X_test, y_train, y_test = train_test_split(X, y, test_size=0.3, stratify=y, random_state=42)\n",
    "\n",
    "# Hyperparameter search space\n",
    "search_space = {\n",
    "    'n_estimators': hp.quniform('n_estimators', 50, 300, 50),  # Narrow the range and step size\n",
    "    'max_depth': hp.quniform('max_depth', 3, 6, 1),  # Shallower trees\n",
    "    'learning_rate': hp.loguniform('learning_rate', -2.5, -0.693),  # Equivalent to 0.08 to 0.5\n",
    "    'subsample': hp.uniform('subsample', 0.7, 1.0),  # Narrow the range\n",
    "    'colsample_bytree': hp.uniform('colsample_bytree', 0.7, 1.0),  # Narrow the range\n",
    "    'gamma': hp.uniform('gamma', 0, 5),  # Limit the upper bound\n",
    "    'reg_alpha': hp.loguniform('reg_alpha', -3, 1.5),  # Equivalent to 1e-3 to 4.5\n",
    "    'reg_lambda': hp.loguniform('reg_lambda', -3, 1.5),  # Equivalent to 1e-3 to 4.5\n",
    "}\n",
    "\n",
    "\n",
    "# Store trials results\n",
    "trials = Trials()\n",
    "\n",
    "# F1 objective function\n",
    "def objective(params):\n",
    "    params['n_estimators'] = int(params['n_estimators'])\n",
    "    params['max_depth'] = int(params['max_depth'])\n",
    "\n",
    "    model = xgb.XGBClassifier(\n",
    "        objective='binary:logistic',\n",
    "        enable_categorical=True,\n",
    "        eval_metric='auc',\n",
    "        **params\n",
    "    )\n",
    "\n",
    "    skf = StratifiedKFold(n_splits=10, shuffle=True, random_state=42)\n",
    "    f1 = cross_val_score(model, X_train, y_train, cv=skf, scoring=make_scorer(f1_score)).mean()\n",
    "\n",
    "    return {'loss': -f1, 'status': STATUS_OK}\n",
    "\n",
    "# Optimization with 50 evaluations\n",
    "best = fmin(fn=objective,\n",
    "            space=search_space,\n",
    "            algo=tpe.suggest,\n",
    "            max_evals=50,  \n",
    "            trials=trials)\n",
    "\n",
    "# Results stored in trials\n",
    "results_df = pd.DataFrame(trials.results)\n",
    "params_df = pd.DataFrame([trial['misc']['vals'] for trial in trials.trials])\n",
    "summary_df = pd.concat([params_df, results_df['loss']], axis=1)\n",
    "summary_df.to_csv(f\"{project_root}/models/trained_models/xgb_metrics_balanced.csv\")\n",
    "\n",
    "best['n_estimators'] = int(best['n_estimators'])\n",
    "best['max_depth'] = int(best['max_depth'])\n",
    "\n",
    "print()\n",
    "print(\"=\"*80)\n",
    "print(\"Best parameters found: \", best)\n",
    "print(\"=\"*80)\n",
    "print()\n",
    "\n",
    "# Train final model with best hyperparameters\n",
    "final_model = xgb.XGBClassifier(\n",
    "    objective='binary:logistic',\n",
    "    enable_categorical=True,\n",
    "    eval_metric='auc',\n",
    "    early_stopping_rounds=10,  \n",
    "    **best\n",
    ")\n",
    "\n",
    "final_model.fit(\n",
    "    X_train, y_train,\n",
    "    eval_set=[(X_test, y_test)],\n",
    "    verbose=False\n",
    ")\n",
    "\n",
    "# Predict using test dataset\n",
    "y_pred = final_model.predict(X_test)\n",
    "print(classification_report(y_test, y_pred))\n",
    "\n",
    "# XGboost metrics\n",
    "accuracy_xgb = accuracy_score(y_test, y_pred)\n",
    "precision_xgb = precision_score(y_test, y_pred)\n",
    "recall_xgb = recall_score(y_test, y_pred)\n",
    "f1_xgb = f1_score(y_test, y_pred)\n",
    "conf_matrix_xgb = confusion_matrix(y_test, y_pred)\n",
    "\n",
    "# Confusion matrix\n",
    "disp = ConfusionMatrixDisplay(conf_matrix_xgb, display_labels=['Negative', 'Positive'])\n",
    "disp.plot(cmap=plt.cm.Blues, values_format='.0f', colorbar=False)  # Cambiar formato a flotantes\n",
    "plt.title('Matriz de confusión XGBoost')\n",
    "plt.show()\n",
    "\n",
    "# Metrics\n",
    "print(\"Metricas para XGBoost con Hyperopt:\")\n",
    "print(\"Accuracy : \", round(accuracy_xgb,4))\n",
    "print(\"Precision: \", round(precision_xgb,4))\n",
    "print(\"Recall   : \", round(recall_xgb,4))\n",
    "print(\"F1 Score : \", round(f1_xgb,4))"
   ]
  },
  {
   "cell_type": "code",
   "execution_count": 8,
   "id": "3e7d1db5-5d40-47d1-bf9f-fbe72e8a03e2",
   "metadata": {},
   "outputs": [
    {
     "data": {
      "text/plain": [
       "['C:\\\\Users\\\\kmilo\\\\Downloads\\\\repositorio/models/trained_models/xgb_m1_opt_balanced.sav']"
      ]
     },
     "execution_count": 8,
     "metadata": {},
     "output_type": "execute_result"
    }
   ],
   "source": [
    "# Export trained model\n",
    "xgb_filename = f'{project_root}/models/trained_models/xgb_m1_opt_balanced.sav'\n",
    "joblib.dump(final_model, xgb_filename)"
   ]
  },
  {
   "cell_type": "markdown",
   "id": "572d6f6c-4355-40f6-8995-7e9a6aac9e8e",
   "metadata": {},
   "source": [
    "<hr style=\"height:10px; border-width:0\">\n",
    "\n",
    "\n",
    "# Random Forest Balanced dataframe"
   ]
  },
  {
   "cell_type": "code",
   "execution_count": 9,
   "id": "320ad672-703f-4c56-8c53-c1322815c2ec",
   "metadata": {},
   "outputs": [],
   "source": [
    "y = merged_df[\"bin_class\"].copy()\n",
    "\n",
    "prep_data = pd.DataFrame()\n",
    "num_cols = merged_df.select_dtypes(include=['float']).columns\n",
    "\n",
    "for i in num_cols:\n",
    "    prep_data[i] = preprocessing.scale(merged_df[i])\n",
    "\n",
    "cat_data = pd.DataFrame()\n",
    "cat_data = merged_df.select_dtypes(include=['object', \"int\"]).copy()\n",
    "cat_data = cat_data.drop([\"bin_class\"], axis=1)\n",
    "\n",
    "label_encoded_df = pd.DataFrame()\n",
    "binary_encoded_df = pd.DataFrame()\n",
    "\n",
    "# Encoders\n",
    "label_encoder = LabelEncoder()\n",
    "binary_encoder = BinaryEncoder()\n",
    "\n",
    "for column in cat_data.columns:\n",
    "    \n",
    "    unique_values = cat_data[column].nunique()\n",
    "    cat_data[column] = cat_data[column].astype(\"category\")\n",
    "    \n",
    "    if unique_values == 2:\n",
    "        label_encoded_df[column] = label_encoder.fit_transform(cat_data[column])\n",
    "        \n",
    "    elif unique_values > 2:\n",
    "\n",
    "        encoded = binary_encoder.fit_transform(cat_data[column])\n",
    "        encoded.columns = [f'{column}_{col}' for col in encoded.columns]  # Rename columns with original prefix\n",
    "        binary_encoded_df = pd.concat([binary_encoded_df, encoded], axis=1)\n",
    "\n",
    "# Final encoded dataframe\n",
    "X = pd.concat([label_encoded_df, binary_encoded_df, prep_data], axis=1)"
   ]
  },
  {
   "cell_type": "code",
   "execution_count": 10,
   "id": "3023a700-9c31-4197-9bc1-cefeb3537952",
   "metadata": {},
   "outputs": [
    {
     "name": "stdout",
     "output_type": "stream",
     "text": [
      "100%|████████████████████████████████████████████████████████████████████████████████████████████████████████████████| 50/50 [3:07:37<00:00, 225.16s/trial, best loss: -0.9639043364258143]\n",
      "\n",
      "================================================================================\n",
      "Best parameters found:  {'bootstrap': 1, 'max_depth': 14, 'min_samples_leaf': 1, 'n_estimators': 250}\n",
      "================================================================================\n",
      "\n",
      "              precision    recall  f1-score   support\n",
      "\n",
      "           0       0.97      0.96      0.96     10722\n",
      "           1       0.96      0.97      0.96     10722\n",
      "\n",
      "    accuracy                           0.96     21444\n",
      "   macro avg       0.96      0.96      0.96     21444\n",
      "weighted avg       0.96      0.96      0.96     21444\n",
      "\n"
     ]
    },
    {
     "data": {
      "image/png": "[encoded data removed]",
      "text/plain": [
       "<Figure size 640x480 with 1 Axes>"
      ]
     },
     "metadata": {},
     "output_type": "display_data"
    },
    {
     "name": "stdout",
     "output_type": "stream",
     "text": [
      "Metricas para Random Forest con Hyperopt:\n",
      "Accuracy :  0.9634\n",
      "Precision:  0.9577\n",
      "Recall   :  0.9696\n",
      "F1 Score :  0.9636\n"
     ]
    }
   ],
   "source": [
    "# Split the dataset into training (70%) and validation (30%)\n",
    "X_train, X_test, y_train, y_test = train_test_split(X, y, test_size=0.3, stratify=y, random_state=42)\n",
    "\n",
    "# Define the search space for hyperparameters\n",
    "search_space = {\n",
    "    'n_estimators': hp.quniform('n_estimators', 50, 300, 10),  # Reduced range for quicker evaluation\n",
    "    'max_depth': hp.quniform('max_depth', 3, 15, 1),  # Shallower trees\n",
    "    #'min_samples_split': hp.quniform('min_samples_split', 2, 10, 2),  # Reduce upper bound\n",
    "    'min_samples_leaf': hp.quniform('min_samples_leaf', 1, 5, 1),  # Reduce upper bound\n",
    "    #'max_features': hp.uniform('max_features', 0.5, 1.0),  # Focus on a narrower range for more features\n",
    "    'bootstrap': hp.choice('bootstrap', [True, False])  # No change\n",
    "}\n",
    "\n",
    "# Initialize a Trials object to store intermediate results\n",
    "trials = Trials()\n",
    "\n",
    "# F1 objective function\n",
    "def objective(params):\n",
    "    params['n_estimators'] = int(params['n_estimators'])\n",
    "    params['max_depth'] = int(params['max_depth'])\n",
    "    #params['min_samples_split'] = int(params['min_samples_split'])\n",
    "    params['min_samples_leaf'] = int(params['min_samples_leaf'])\n",
    "\n",
    "    model = RandomForestClassifier(\n",
    "        random_state=42,\n",
    "        **params\n",
    "    )\n",
    "\n",
    "    skf = StratifiedKFold(n_splits=10, shuffle=True, random_state=42)\n",
    "    f1 = cross_val_score(model, X_train, y_train, cv=skf, scoring=make_scorer(f1_score)).mean()\n",
    "    \n",
    "    return {'loss': -f1, 'status': STATUS_OK}\n",
    "\n",
    "# Run the optimization\n",
    "best = fmin(fn=objective, \n",
    "            space=search_space, \n",
    "            algo=tpe.suggest, \n",
    "            max_evals=50,  # Adjust the number of evaluations\n",
    "            trials=trials)\n",
    "\n",
    "# Results stored in trials\n",
    "results_df = pd.DataFrame(trials.results)\n",
    "params_df = pd.DataFrame([trial['misc']['vals'] for trial in trials.trials])\n",
    "summary_df = pd.concat([params_df, results_df['loss']], axis=1)\n",
    "summary_df.to_csv(f\"{project_root}/models/trained_models/rf_metrics_balanced.csv\")\n",
    "\n",
    "# Convert integer types where necessary\n",
    "best['n_estimators'] = int(best['n_estimators'])\n",
    "best['max_depth'] = int(best['max_depth'])\n",
    "#best['min_samples_split'] = int(best['min_samples_split'])\n",
    "best['min_samples_leaf'] = int(best['min_samples_leaf'])\n",
    "\n",
    "print()\n",
    "print(\"=\"*80)\n",
    "print(\"Best parameters found: \", best)\n",
    "print(\"=\"*80)\n",
    "print()\n",
    "\n",
    "# Train the final model on the full training data with the best parameters\n",
    "final_model = RandomForestClassifier(\n",
    "    random_state=42,\n",
    "    **best\n",
    ")\n",
    "\n",
    "final_model.fit(X_train, y_train)\n",
    "\n",
    "# Predictions with final model\n",
    "y_pred = final_model.predict(X_test)\n",
    "print(classification_report(y_test, y_pred))\n",
    "\n",
    "# Metrics\n",
    "accuracy_rf = accuracy_score(y_test, y_pred)\n",
    "precision_rf = precision_score(y_test, y_pred)\n",
    "recall_rf = recall_score(y_test, y_pred)\n",
    "f1_rf = f1_score(y_test, y_pred)\n",
    "conf_matrix_rf = confusion_matrix(y_test, y_pred)\n",
    "\n",
    "# Confusion matrix\n",
    "disp = ConfusionMatrixDisplay(conf_matrix_rf, display_labels=['Negative', 'Positive'])\n",
    "disp.plot(cmap=plt.cm.Blues, values_format='.0f', colorbar=False)  # Cambiar formato a flotantes\n",
    "plt.title('Matriz de confusión Random Forest')\n",
    "plt.show()\n",
    "\n",
    "# Printing metrics\n",
    "print(\"Metricas para Random Forest con Hyperopt:\")\n",
    "print(\"Accuracy : \", round(accuracy_rf,4))\n",
    "print(\"Precision: \", round(precision_rf,4))\n",
    "print(\"Recall   : \", round(recall_rf,4))\n",
    "print(\"F1 Score : \", round(f1_rf,4))"
   ]
  },
  {
   "cell_type": "code",
   "execution_count": 11,
   "id": "8f0e0718-41fa-4f5b-b80a-d667f9a17c03",
   "metadata": {},
   "outputs": [
    {
     "data": {
      "text/plain": [
       "['C:\\\\Users\\\\kmilo\\\\Downloads\\\\repositorio/models/trained_models/rf_m1_opt_balanced.sav']"
      ]
     },
     "execution_count": 11,
     "metadata": {},
     "output_type": "execute_result"
    }
   ],
   "source": [
    "rf_filename = f'{project_root}/models/trained_models/rf_m1_opt_balanced.sav'\n",
    "joblib.dump(final_model, rf_filename)"
   ]
  },
  {
   "cell_type": "markdown",
   "id": "05a49c16-cdd4-4df5-a473-bcb73ac4d0d2",
   "metadata": {},
   "source": [
    "<hr style=\"height:10px; border-width:0\">\n",
    "\n",
    "\n",
    "# SVM Balanced dataframe"
   ]
  },
  {
   "cell_type": "code",
   "execution_count": null,
   "id": "586cc1ce-c9b6-4582-a61b-d878e3d3fb14",
   "metadata": {},
   "outputs": [],
   "source": []
  },
  {
   "cell_type": "code",
   "execution_count": 9,
   "id": "ea518055-25a9-4def-b4bd-71fd26dd865b",
   "metadata": {},
   "outputs": [
    {
     "name": "stdout",
     "output_type": "stream",
     "text": [
      "3:07:37 in minutes: 187.6\n"
     ]
    }
   ],
   "source": [
    "def time_to_minutes(time_str):\n",
    "    # Split the time into hours, minutes, and seconds\n",
    "    hours, minutes, seconds = map(int, time_str.split(':'))\n",
    "    \n",
    "    # Convert hours to minutes, add the minutes and seconds converted to minutes\n",
    "    total_minutes = hours * 60 + minutes + seconds / 60\n",
    "    \n",
    "    # Return the total minutes rounded to one decimal place\n",
    "    return round(total_minutes, 1)\n",
    "\n",
    "# Example usage\n",
    "time_1 = \"3:07:37\"\n",
    "\n",
    "minutes_1 = time_to_minutes(time_1)\n",
    "print(f\"{time_1} in minutes: {minutes_1}\")"
   ]
  }
 ],
 "metadata": {
  "kernelspec": {
   "display_name": "Python 3 (ipykernel)",
   "language": "python",
   "name": "python3"
  },
  "language_info": {
   "codemirror_mode": {
    "name": "ipython",
    "version": 3
   },
   "file_extension": ".py",
   "mimetype": "text/x-python",
   "name": "python",
   "nbconvert_exporter": "python",
   "pygments_lexer": "ipython3",
   "version": "3.11.4"
  }
 },
 "nbformat": 4,
 "nbformat_minor": 5
}
