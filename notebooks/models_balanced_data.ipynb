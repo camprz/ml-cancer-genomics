{
 "cells": [
  {
   "cell_type": "code",
   "execution_count": 1,
   "id": "0872b3c3-5266-4e28-a805-30392a51160e",
   "metadata": {},
   "outputs": [],
   "source": [
    "# Dependency management\n",
    "# --------------------------------------------------------\n",
    "import sys\n",
    "from pathlib import Path\n",
    "project_root = Path(\"..\").resolve()\n",
    "sys.path.append(str(project_root / \"scripts\"))\n",
    "from setup_environment import setup_paths\n",
    "project_root = setup_paths()\n",
    "\n",
    "# Data manipulation\n",
    "# --------------------------------------------------------\n",
    "import pandas as pd\n",
    "import numpy as np\n",
    "import polars as pl\n",
    "import math\n",
    "import time\n",
    "import joblib\n",
    "\n",
    "# Visualizations\n",
    "# --------------------------------------------------------\n",
    "import matplotlib.pyplot as plt\n",
    "import seaborn as sns\n",
    "import missingno as msno\n",
    "import altair as alt\n",
    "from plotnine import ggplot, geom_point, aes, stat_smooth, facet_wrap\n",
    "from bokeh.plotting import figure, show\n",
    "import seaborn.objects as so\n",
    "import plotly.express as px\n",
    "\n",
    "# Custom scripts\n",
    "# ---------------------------------------------------------\n",
    "from data_processing.cleaner import (cleaning, \n",
    "                                     compare_and_drop_duplicates)\n",
    "from feature_selection.selector import (select_vars, \n",
    "                                       choose_variable_to_drop, \n",
    "                                       corr_comparison, \n",
    "                                       mutual_information)\n",
    "\n",
    "# Correlation\n",
    "# ---------------------------------------------------------\n",
    "from dython.nominal import associations\n",
    "\n",
    "# Dimension Reduction\n",
    "# ---------------------------------------------------------\n",
    "import umap\n",
    "\n",
    "# Preprocessing\n",
    "# ---------------------------------------------------------\n",
    "from sklearn.preprocessing import (MinMaxScaler, \n",
    "                                   RobustScaler, \n",
    "                                   QuantileTransformer, \n",
    "                                   OrdinalEncoder,\n",
    "                                  LabelEncoder)\n",
    "from sklearn import preprocessing\n",
    "from category_encoders import BinaryEncoder\n",
    "\n",
    "# Random Forest\n",
    "# ---------------------------------------------------------\n",
    "from sklearn.ensemble import RandomForestClassifier\n",
    "\n",
    "# Support Vector Machine Classifier\n",
    "# ---------------------------------------------------------\n",
    "from sklearn.svm import SVC\n",
    "\n",
    "# XGBoost\n",
    "# ---------------------------------------------------------\n",
    "import xgboost as xgb\n",
    "from xgboost import XGBClassifier\n",
    "\n",
    "# Model selection\n",
    "# ---------------------------------------------------------\n",
    "from sklearn.model_selection import (train_test_split, \n",
    "                                     RepeatedStratifiedKFold, \n",
    "                                     StratifiedKFold, \n",
    "                                     cross_val_score)\n",
    "\n",
    "# Metrics\n",
    "# ---------------------------------------------------------\n",
    "from sklearn.metrics import (accuracy_score, \n",
    "                             f1_score, \n",
    "                             precision_score, \n",
    "                             recall_score, \n",
    "                             confusion_matrix,\n",
    "                             make_scorer,\n",
    "                             classification_report,\n",
    "                             ConfusionMatrixDisplay\n",
    "                             )\n",
    "\n",
    "# Hyperparameter optimization\n",
    "# ----------------------------------------------------------\n",
    "from hyperopt import fmin, tpe, hp, STATUS_OK, Trials\n",
    "\n",
    "# Other\n",
    "# ---------------------------------------------------------\n",
    "from collections import Counter\n",
    "from tqdm import tqdm\n",
    "import random\n",
    "random.seed(2024)\n",
    "import warnings\n",
    "warnings.simplefilter(\"ignore\", FutureWarning)"
   ]
  },
  {
   "cell_type": "code",
   "execution_count": 2,
   "id": "2f719a4d-2632-4ab6-91ea-e544eb5f59f4",
   "metadata": {},
   "outputs": [
    {
     "name": "stdout",
     "output_type": "stream",
     "text": [
      "(328116, 31)\n",
      "\n",
      "Index(['#chrom', 'chromStart', 'chromEnd', 'name', 'score', 'reserved',\n",
      "       'blockSizes', 'clinSign', 'reviewStatus', 'type', 'molConseq',\n",
      "       'testedInGtr', 'phenotypeList', 'origin', 'cytogenetic', 'vcfDesc',\n",
      "       '_clinSignCode', 'simplified_hgvs', 'Gene', 'ClinClass',\n",
      "       'Classification', 'bin_class', 'classification_oncokb', 'gen',\n",
      "       'gen_label', 'string_per_umap_cluster',\n",
      "       'string_per_umap_cluster_description', 'string_total_clustering',\n",
      "       'string_total_clustering_description', 'x_position', 'y_position'],\n",
      "      dtype='object')\n"
     ]
    }
   ],
   "source": [
    "# Load saved merged_df.csv\n",
    "merged_df = pd.read_csv(f\"{project_root}/data/interim/merged_df.csv\")\n",
    "print(merged_df.shape)\n",
    "print()\n",
    "print(merged_df.columns)"
   ]
  },
  {
   "cell_type": "code",
   "execution_count": 3,
   "id": "668c7a1a-4bf2-431e-8b0f-e1f41139e7ec",
   "metadata": {},
   "outputs": [
    {
     "data": {
      "text/plain": [
       "Index(['#chrom', 'name', 'score', 'blockSizes', 'reviewStatus', 'type',\n",
       "       'molConseq', 'phenotypeList', 'origin', 'cytogenetic',\n",
       "       'simplified_hgvs', 'Gene', 'bin_class', 'classification_oncokb',\n",
       "       'gen_label', 'string_per_umap_cluster_description',\n",
       "       'string_total_clustering_description', 'x_position', 'y_position'],\n",
       "      dtype='object')"
      ]
     },
     "execution_count": 3,
     "metadata": {},
     "output_type": "execute_result"
    }
   ],
   "source": [
    "# Final columns to drop\n",
    "final_drop_check = [\"geneId\", \"_originCode\", \"_allTypeCode\", \"ClinInfo\", \n",
    "                     \"reserved\", \"numSubmit\", \"_variantId\", \"real_id\", \n",
    "                     \"origName\", \"rcvAcc\", \"snpId\", \"Start\", \"End\", \"phenotype\", \n",
    "                    \"_mouseOver\", \"Classification\", \"_clinSignCode\", \n",
    "                    'clinSign', \"ClinClass\", \"chromStart\", \"chromEnd\", \"gen\", \n",
    "                    \"vcfDesc\", \"testedInGtr\", \"string_per_umap_cluster\", \"string_total_clustering\"]\n",
    "\n",
    "for i in final_drop_check:\n",
    "    if i in merged_df.columns:\n",
    "        merged_df = merged_df.drop([i], axis=1)\n",
    "\n",
    "merged_df.columns"
   ]
  },
  {
   "cell_type": "markdown",
   "id": "24e229e0-d326-4dfd-8b20-7486ca6e6974",
   "metadata": {},
   "source": [
    "<hr style=\"height:10px; border-width:0\">\n",
    "\n",
    "\n",
    "# XGBoost Balanced dataframe"
   ]
  }
 ],
 "metadata": {
  "kernelspec": {
   "display_name": "Python 3 (ipykernel)",
   "language": "python",
   "name": "python3"
  },
  "language_info": {
   "codemirror_mode": {
    "name": "ipython",
    "version": 3
   },
   "file_extension": ".py",
   "mimetype": "text/x-python",
   "name": "python",
   "nbconvert_exporter": "python",
   "pygments_lexer": "ipython3",
   "version": "3.11.4"
  }
 },
 "nbformat": 4,
 "nbformat_minor": 5
}
